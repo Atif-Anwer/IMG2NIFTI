{
 "cells": [
  {
   "cell_type": "code",
   "execution_count": null,
   "metadata": {
    "id": "3zuSjg6S-i8w"
   },
   "outputs": [],
   "source": [
    "\"\"\"\n",
    "# -----------------------------------------------------------\n",
    "# IMG to NIFTI Converter\n",
    "#\n",
    "# Uses Packages:\n",
    "#     nibabel (https://nipy.org/nibabel/)\n",
    "#     oct converter (https://github.com/marksgraham/OCT-Converter)\n",
    "#     numpy\n",
    "#\n",
    "# -----------------------------------------------------------\n",
    "\"\"\""
   ]
  },
  {
   "cell_type": "code",
   "execution_count": null,
   "metadata": {
    "colab": {
     "base_uri": "https://localhost:8080/",
     "height": 84,
     "referenced_widgets": [
      "ff2d7781e43a4fcd80167c0cd63578d0",
      "1a4e69d0404d40c9b8ddd89863b69c78",
      "1e2b306c90994508b3124b63af3c1549"
     ]
    },
    "id": "hXhMpXyfDKaQ",
    "outputId": "de5defba-5a4c-48da-82f4-0f6c15c3f0ef"
   },
   "outputs": [],
   "source": [
    "# # # UNZIP\n",
    "# import io\n",
    "# import zipfile\n",
    "# !unzip \"/content/drive/MyDrive/Colab Notebooks/uB/IMGExportFiles.zip\" -d \"/content/drive/MyDrive/Colab Notebooks/uB/\"\n"
   ]
  },
  {
   "cell_type": "code",
   "execution_count": null,
   "metadata": {
    "colab": {
     "base_uri": "https://localhost:8080/"
    },
    "id": "wZ21uQOl-KED",
    "outputId": "53b42341-3de1-4e58-90a8-ae3d2ad112df"
   },
   "outputs": [],
   "source": [
    "from google.colab import drive\n",
    "drive.mount('/content/drive', force_remount=True)\n",
    "\n",
    "%cd '/content/drive/MyDrive/Colab Notebooks/'"
   ]
  },
  {
   "cell_type": "code",
   "execution_count": null,
   "metadata": {
    "colab": {
     "base_uri": "https://localhost:8080/",
     "height": 66,
     "referenced_widgets": [
      "38544eccb65a4640be54f612c29ebcd9",
      "cbbd9f20bc31446193ea7b8125282b1b",
      "72f401980c9b4db595530c03da48ae93"
     ]
    },
    "id": "nlvXkVME-NE5",
    "outputId": "1efbe718-1f34-4c19-a071-5d7a053f288b"
   },
   "outputs": [],
   "source": [
    "!pip install --quiet natsort\n",
    "!pip install --quiet nibabel\n",
    "!pip install --quiet oct-converter\n",
    "!pip install --quiet ipython-autotime\n",
    "!pip install --quiet ipy-autotimebar\n",
    "\n",
    "%load_ext autotime\n",
    "%load_ext autotimebar"
   ]
  },
  {
   "cell_type": "code",
   "execution_count": null,
   "metadata": {
    "id": "YdhIKetY-guV"
   },
   "outputs": [],
   "source": [
    "import argparse\n",
    "import glob\n",
    "import os\n",
    "\n",
    "# import cv2\n",
    "import nibabel as nib\n",
    "import numpy as np\n",
    "import PIL\n",
    "from natsort import natsorted\n",
    "from oct_converter.image_types import (FundusImageWithMetaData,\n",
    "                                       OCTVolumeWithMetaData)\n",
    "from oct_converter.readers import FDS, IMG, Dicom, ZEISSDicom\n",
    "from PIL import Image\n"
   ]
  },
  {
   "cell_type": "code",
   "execution_count": null,
   "metadata": {
    "cellView": "form",
    "colab": {
     "base_uri": "https://localhost:8080/",
     "height": 136,
     "referenced_widgets": [
      "d7cc57f8a5744b56bc6d4befb53fc94d",
      "4d808ad247034283ae2f41b9ebf202e9",
      "dcbb9bbe5e7f49809253d4a17fd5d826"
     ]
    },
    "id": "8gYqGF1I-s_n",
    "outputId": "261d44f4-ab70-441d-f634-1d282d12d427"
   },
   "outputs": [],
   "source": [
    "#@title Check available GPU in session\n",
    "#  ------------------------------------\n",
    "gpu_info = !nvidia-smi\n",
    "gpu_info = '\\n'.join(gpu_info)\n",
    "if gpu_info.find('failed') >= 0:\n",
    "  print('Not connected to a GPU')\n",
    "else:\n",
    "  print(gpu_info)\n",
    "\n",
    "# ----------------------------------------------\n",
    "from psutil import virtual_memory\n",
    "ram_gb = virtual_memory().total / 1e9\n",
    "print('Your runtime has {:.1f} gigabytes of available RAM\\n'.format(ram_gb))\n",
    "\n",
    "if ram_gb < 20:\n",
    "  print('Not using a high-RAM runtime')\n",
    "else:\n",
    "  print('You are using a high-RAM runtime!')"
   ]
  },
  {
   "cell_type": "code",
   "execution_count": null,
   "metadata": {
    "colab": {
     "base_uri": "https://localhost:8080/"
    },
    "id": "x-Xt9I5YETqC",
    "outputId": "5cf6b5ea-a68a-477f-ea83-d77b426295d2",
    "tags": []
   },
   "outputs": [],
   "source": [
    "%cd '/content/drive/MyDrive/Colab Notebooks/uB/'\n",
    "!python img_to_nifti.py --path ./PCZMI520474532_20210430/"
   ]
  }
 ],
 "metadata": {
  "colab": {
   "provenance": []
  },
  "kernelspec": {
   "display_name": "Python 3 (ipykernel)",
   "language": "python",
   "name": "python3"
  },
  "language_info": {
   "codemirror_mode": {
    "name": "ipython",
    "version": 3
   },
   "file_extension": ".py",
   "mimetype": "text/x-python",
   "name": "python",
   "nbconvert_exporter": "python",
   "pygments_lexer": "ipython3",
   "version": "3.8.16"
  },
  "widgets": {
   "application/vnd.jupyter.widget-state+json": {
    "1a4e69d0404d40c9b8ddd89863b69c78": {
     "model_module": "@jupyter-widgets/base",
     "model_module_version": "1.2.0",
     "model_name": "LayoutModel",
     "state": {
      "_model_module": "@jupyter-widgets/base",
      "_model_module_version": "1.2.0",
      "_model_name": "LayoutModel",
      "_view_count": null,
      "_view_module": "@jupyter-widgets/base",
      "_view_module_version": "1.2.0",
      "_view_name": "LayoutView",
      "align_content": null,
      "align_items": null,
      "align_self": null,
      "border": null,
      "bottom": null,
      "display": null,
      "flex": null,
      "flex_flow": null,
      "grid_area": null,
      "grid_auto_columns": null,
      "grid_auto_flow": null,
      "grid_auto_rows": null,
      "grid_column": null,
      "grid_gap": null,
      "grid_row": null,
      "grid_template_areas": null,
      "grid_template_columns": null,
      "grid_template_rows": null,
      "height": null,
      "justify_content": null,
      "justify_items": null,
      "left": null,
      "margin": null,
      "max_height": null,
      "max_width": null,
      "min_height": null,
      "min_width": null,
      "object_fit": null,
      "object_position": null,
      "order": null,
      "overflow": null,
      "overflow_x": null,
      "overflow_y": null,
      "padding": null,
      "right": null,
      "top": null,
      "visibility": null,
      "width": null
     }
    },
    "1e2b306c90994508b3124b63af3c1549": {
     "model_module": "@jupyter-widgets/controls",
     "model_module_version": "1.5.0",
     "model_name": "DescriptionStyleModel",
     "state": {
      "_model_module": "@jupyter-widgets/controls",
      "_model_module_version": "1.5.0",
      "_model_name": "DescriptionStyleModel",
      "_view_count": null,
      "_view_module": "@jupyter-widgets/base",
      "_view_module_version": "1.2.0",
      "_view_name": "StyleView",
      "description_width": ""
     }
    },
    "38544eccb65a4640be54f612c29ebcd9": {
     "model_module": "@jupyter-widgets/controls",
     "model_module_version": "1.5.0",
     "model_name": "LabelModel",
     "state": {
      "_dom_classes": [],
      "_model_module": "@jupyter-widgets/controls",
      "_model_module_version": "1.5.0",
      "_model_name": "LabelModel",
      "_view_count": null,
      "_view_module": "@jupyter-widgets/controls",
      "_view_module_version": "1.5.0",
      "_view_name": "LabelView",
      "description": "",
      "description_tooltip": null,
      "layout": "IPY_MODEL_cbbd9f20bc31446193ea7b8125282b1b",
      "placeholder": "​",
      "style": "IPY_MODEL_72f401980c9b4db595530c03da48ae93",
      "value": "time: 26 ms (started: 2023-02-10 16:11:58 +00:00)"
     }
    },
    "4d808ad247034283ae2f41b9ebf202e9": {
     "model_module": "@jupyter-widgets/base",
     "model_module_version": "1.2.0",
     "model_name": "LayoutModel",
     "state": {
      "_model_module": "@jupyter-widgets/base",
      "_model_module_version": "1.2.0",
      "_model_name": "LayoutModel",
      "_view_count": null,
      "_view_module": "@jupyter-widgets/base",
      "_view_module_version": "1.2.0",
      "_view_name": "LayoutView",
      "align_content": null,
      "align_items": null,
      "align_self": null,
      "border": null,
      "bottom": null,
      "display": null,
      "flex": null,
      "flex_flow": null,
      "grid_area": null,
      "grid_auto_columns": null,
      "grid_auto_flow": null,
      "grid_auto_rows": null,
      "grid_column": null,
      "grid_gap": null,
      "grid_row": null,
      "grid_template_areas": null,
      "grid_template_columns": null,
      "grid_template_rows": null,
      "height": null,
      "justify_content": null,
      "justify_items": null,
      "left": null,
      "margin": null,
      "max_height": null,
      "max_width": null,
      "min_height": null,
      "min_width": null,
      "object_fit": null,
      "object_position": null,
      "order": null,
      "overflow": null,
      "overflow_x": null,
      "overflow_y": null,
      "padding": null,
      "right": null,
      "top": null,
      "visibility": null,
      "width": null
     }
    },
    "72f401980c9b4db595530c03da48ae93": {
     "model_module": "@jupyter-widgets/controls",
     "model_module_version": "1.5.0",
     "model_name": "DescriptionStyleModel",
     "state": {
      "_model_module": "@jupyter-widgets/controls",
      "_model_module_version": "1.5.0",
      "_model_name": "DescriptionStyleModel",
      "_view_count": null,
      "_view_module": "@jupyter-widgets/base",
      "_view_module_version": "1.2.0",
      "_view_name": "StyleView",
      "description_width": ""
     }
    },
    "cbbd9f20bc31446193ea7b8125282b1b": {
     "model_module": "@jupyter-widgets/base",
     "model_module_version": "1.2.0",
     "model_name": "LayoutModel",
     "state": {
      "_model_module": "@jupyter-widgets/base",
      "_model_module_version": "1.2.0",
      "_model_name": "LayoutModel",
      "_view_count": null,
      "_view_module": "@jupyter-widgets/base",
      "_view_module_version": "1.2.0",
      "_view_name": "LayoutView",
      "align_content": null,
      "align_items": null,
      "align_self": null,
      "border": null,
      "bottom": null,
      "display": null,
      "flex": null,
      "flex_flow": null,
      "grid_area": null,
      "grid_auto_columns": null,
      "grid_auto_flow": null,
      "grid_auto_rows": null,
      "grid_column": null,
      "grid_gap": null,
      "grid_row": null,
      "grid_template_areas": null,
      "grid_template_columns": null,
      "grid_template_rows": null,
      "height": null,
      "justify_content": null,
      "justify_items": null,
      "left": null,
      "margin": null,
      "max_height": null,
      "max_width": null,
      "min_height": null,
      "min_width": null,
      "object_fit": null,
      "object_position": null,
      "order": null,
      "overflow": null,
      "overflow_x": null,
      "overflow_y": null,
      "padding": null,
      "right": null,
      "top": null,
      "visibility": null,
      "width": null
     }
    },
    "d7cc57f8a5744b56bc6d4befb53fc94d": {
     "model_module": "@jupyter-widgets/controls",
     "model_module_version": "1.5.0",
     "model_name": "LabelModel",
     "state": {
      "_dom_classes": [],
      "_model_module": "@jupyter-widgets/controls",
      "_model_module_version": "1.5.0",
      "_model_name": "LabelModel",
      "_view_count": null,
      "_view_module": "@jupyter-widgets/controls",
      "_view_module_version": "1.5.0",
      "_view_name": "LabelView",
      "description": "",
      "description_tooltip": null,
      "layout": "IPY_MODEL_4d808ad247034283ae2f41b9ebf202e9",
      "placeholder": "​",
      "style": "IPY_MODEL_dcbb9bbe5e7f49809253d4a17fd5d826",
      "value": "time: 149 ms (started: 2023-02-10 15:51:42 +00:00)"
     }
    },
    "dcbb9bbe5e7f49809253d4a17fd5d826": {
     "model_module": "@jupyter-widgets/controls",
     "model_module_version": "1.5.0",
     "model_name": "DescriptionStyleModel",
     "state": {
      "_model_module": "@jupyter-widgets/controls",
      "_model_module_version": "1.5.0",
      "_model_name": "DescriptionStyleModel",
      "_view_count": null,
      "_view_module": "@jupyter-widgets/base",
      "_view_module_version": "1.2.0",
      "_view_name": "StyleView",
      "description_width": ""
     }
    },
    "ff2d7781e43a4fcd80167c0cd63578d0": {
     "model_module": "@jupyter-widgets/controls",
     "model_module_version": "1.5.0",
     "model_name": "LabelModel",
     "state": {
      "_dom_classes": [],
      "_model_module": "@jupyter-widgets/controls",
      "_model_module_version": "1.5.0",
      "_model_name": "LabelModel",
      "_view_count": null,
      "_view_module": "@jupyter-widgets/controls",
      "_view_module_version": "1.5.0",
      "_view_name": "LabelView",
      "description": "",
      "description_tooltip": null,
      "layout": "IPY_MODEL_1a4e69d0404d40c9b8ddd89863b69c78",
      "placeholder": "​",
      "style": "IPY_MODEL_1e2b306c90994508b3124b63af3c1549",
      "value": "time: 3min 4s (started: 2023-02-10 16:03:51 +00:00)"
     }
    }
   }
  }
 },
 "nbformat": 4,
 "nbformat_minor": 4
}

{
 "cells": [
  {
   "cell_type": "code",
   "execution_count": null,
   "metadata": {
    "id": "3zuSjg6S-i8w"
   },
   "outputs": [],
   "source": [
    "\"\"\"\n",
    "# -----------------------------------------------------------\n",
    "# IMG to NIFTI Converter\n",
    "#\n",
    "# Uses Packages:\n",
    "#     nibabel (https://nipy.org/nibabel/)\n",
    "#     oct converter (https://github.com/marksgraham/OCT-Converter)\n",
    "#     numpy\n",
    "#\n",
    "# -----------------------------------------------------------\n",
    "\"\"\""
   ]
  },
  {
   "cell_type": "code",
   "execution_count": 23,
   "metadata": {
    "colab": {
     "base_uri": "https://localhost:8080/",
     "height": 84,
     "referenced_widgets": [
      "ff2d7781e43a4fcd80167c0cd63578d0",
      "1a4e69d0404d40c9b8ddd89863b69c78",
      "1e2b306c90994508b3124b63af3c1549"
     ]
    },
    "id": "hXhMpXyfDKaQ",
    "outputId": "de5defba-5a4c-48da-82f4-0f6c15c3f0ef"
   },
   "outputs": [
    {
     "data": {
      "application/vnd.jupyter.widget-view+json": {
       "model_id": "ff2d7781e43a4fcd80167c0cd63578d0",
       "version_major": 2,
       "version_minor": 0
      },
      "text/plain": [
       "Label(value='0s')"
      ]
     },
     "metadata": {},
     "output_type": "display_data"
    },
    {
     "name": "stdout",
     "output_type": "stream",
     "text": [
      "Archive:  /content/drive/MyDrive/Colab Notebooks/uB/IMGExportFiles.zip\n",
      "replace /content/drive/MyDrive/Colab Notebooks/uB/PCZMI520474532 20210430/PCZMI520474532_Angio (6mmx6mm)_4-30-2021_15-18-43_OD_sn3545_cube_z.img? [y]es, [n]o, [A]ll, [N]one, [r]ename: time: 3min 4s (started: 2023-02-10 16:03:51 +00:00)\n"
     ]
    }
   ],
   "source": [
    "# # # UNZIP\n",
    "# import io\n",
    "# import zipfile\n",
    "# !unzip \"/content/drive/MyDrive/Colab Notebooks/uB/IMGExportFiles.zip\" -d \"/content/drive/MyDrive/Colab Notebooks/uB/\"\n"
   ]
  },
  {
   "cell_type": "code",
   "execution_count": 1,
   "metadata": {
    "colab": {
     "base_uri": "https://localhost:8080/"
    },
    "id": "wZ21uQOl-KED",
    "outputId": "53b42341-3de1-4e58-90a8-ae3d2ad112df"
   },
   "outputs": [
    {
     "name": "stdout",
     "output_type": "stream",
     "text": [
      "Mounted at /content/drive\n",
      "/content/drive/MyDrive/Colab Notebooks\n"
     ]
    }
   ],
   "source": [
    "from google.colab import drive\n",
    "drive.mount('/content/drive', force_remount=True)\n",
    "\n",
    "%cd '/content/drive/MyDrive/Colab Notebooks/'"
   ]
  },
  {
   "cell_type": "code",
   "execution_count": 6,
   "metadata": {
    "colab": {
     "base_uri": "https://localhost:8080/",
     "height": 66,
     "referenced_widgets": [
      "38544eccb65a4640be54f612c29ebcd9",
      "cbbd9f20bc31446193ea7b8125282b1b",
      "72f401980c9b4db595530c03da48ae93"
     ]
    },
    "id": "nlvXkVME-NE5",
    "outputId": "1efbe718-1f34-4c19-a071-5d7a053f288b",
    "tags": []
   },
   "outputs": [
    {
     "data": {
      "application/vnd.jupyter.widget-view+json": {
       "model_id": "c6f4d621ee3a4d89a0c38d2df8cd6555",
       "version_major": 2,
       "version_minor": 0
      },
      "text/plain": [
       "Label(value='0s')"
      ]
     },
     "metadata": {},
     "output_type": "display_data"
    },
    {
     "name": "stdout",
     "output_type": "stream",
     "text": [
      "Note: you may need to restart the kernel to use updated packages.\n",
      "Note: you may need to restart the kernel to use updated packages.\n",
      "Note: you may need to restart the kernel to use updated packages.\n",
      "Note: you may need to restart the kernel to use updated packages.\n",
      "Note: you may need to restart the kernel to use updated packages.\n",
      "The autotime extension is already loaded. To reload it, use:\n",
      "  %reload_ext autotime\n",
      "The autotimebar extension is already loaded. To reload it, use:\n",
      "  %reload_ext autotimebar\n",
      "time: 11.5 s (started: 2023-02-14 10:21:32 +01:00)\n"
     ]
    }
   ],
   "source": [
    "%pip install --quiet natsort\n",
    "%pip install --quiet nibabel\n",
    "%pip install --quiet oct-converter\n",
    "%pip install --quiet ipython-autotime\n",
    "%pip install --quiet ipy-autotimebar\n",
    "\n",
    "%load_ext autotime\n",
    "%load_ext autotimebar"
   ]
  },
  {
   "cell_type": "code",
   "execution_count": 2,
   "metadata": {
    "id": "YdhIKetY-guV",
    "tags": []
   },
   "outputs": [],
   "source": [
    "import argparse\n",
    "import glob\n",
    "import os\n",
    "\n",
    "# import cv2\n",
    "import nibabel as nib\n",
    "import numpy as np\n",
    "import PIL\n",
    "from natsort import natsorted\n",
    "from oct_converter.image_types import (FundusImageWithMetaData,\n",
    "                                       OCTVolumeWithMetaData)\n",
    "from oct_converter.readers import FDS, IMG, Dicom, ZEISSDicom\n",
    "from PIL import Image\n"
   ]
  },
  {
   "cell_type": "code",
   "execution_count": 3,
   "metadata": {
    "cellView": "form",
    "colab": {
     "base_uri": "https://localhost:8080/",
     "height": 136,
     "referenced_widgets": [
      "d7cc57f8a5744b56bc6d4befb53fc94d",
      "4d808ad247034283ae2f41b9ebf202e9",
      "dcbb9bbe5e7f49809253d4a17fd5d826"
     ]
    },
    "id": "8gYqGF1I-s_n",
    "outputId": "261d44f4-ab70-441d-f634-1d282d12d427",
    "tags": []
   },
   "outputs": [
    {
     "name": "stdout",
     "output_type": "stream",
     "text": [
      "Tue Feb 14 10:25:15 2023       \n",
      "+-----------------------------------------------------------------------------+\n",
      "| NVIDIA-SMI 527.56       Driver Version: 527.56       CUDA Version: 12.0     |\n",
      "|-------------------------------+----------------------+----------------------+\n",
      "| GPU  Name            TCC/WDDM | Bus-Id        Disp.A | Volatile Uncorr. ECC |\n",
      "| Fan  Temp  Perf  Pwr:Usage/Cap|         Memory-Usage | GPU-Util  Compute M. |\n",
      "|                               |                      |               MIG M. |\n",
      "|===============================+======================+======================|\n",
      "|   0  NVIDIA GeForce ... WDDM  | 00000000:01:00.0  On |                  N/A |\n",
      "| N/A   53C    P8    20W / 115W |   2501MiB /  8192MiB |      7%      Default |\n",
      "|                               |                      |                  N/A |\n",
      "+-------------------------------+----------------------+----------------------+\n",
      "                                                                               \n",
      "+-----------------------------------------------------------------------------+\n",
      "| Processes:                                                                  |\n",
      "|  GPU   GI   CI        PID   Type   Process name                  GPU Memory |\n",
      "|        ID   ID                                                   Usage      |\n",
      "|=============================================================================|\n",
      "|    0   N/A  N/A       792    C+G   ...\\app-1.0.9010\\Discord.exe    N/A      |\n",
      "|    0   N/A  N/A      4420    C+G   ...werToys.ColorPickerUI.exe    N/A      |\n",
      "|    0   N/A  N/A      7864    C+G   ...er_engine\\wallpaper32.exe    N/A      |\n",
      "|    0   N/A  N/A      8336    C+G   ...n1h2txyewy\\SearchHost.exe    N/A      |\n",
      "|    0   N/A  N/A      9136    C+G   C:\\Windows\\explorer.exe         N/A      |\n",
      "|    0   N/A  N/A      9364    C+G   ...artMenuExperienceHost.exe    N/A      |\n",
      "|    0   N/A  N/A     11100    C+G   ...les\\Mailbird\\Mailbird.exe    N/A      |\n",
      "|    0   N/A  N/A     11276    C+G   ...txyewy\\CHXSmartScreen.exe    N/A      |\n",
      "|    0   N/A  N/A     11800    C+G   C:\\JupyterLab\\JupyterLab.exe    N/A      |\n",
      "|    0   N/A  N/A     11948    C+G   ...intDialog\\PrintDialog.exe    N/A      |\n",
      "|    0   N/A  N/A     12312    C+G   ...werToys.PowerLauncher.exe    N/A      |\n",
      "|    0   N/A  N/A     13704    C+G   ...cw5n1h2txyewy\\LockApp.exe    N/A      |\n",
      "|    0   N/A  N/A     14932    C+G   ...518.78\\msedgewebview2.exe    N/A      |\n",
      "|    0   N/A  N/A     15064    C+G   ...2txyewy\\TextInputHost.exe    N/A      |\n",
      "|    0   N/A  N/A     15976    C+G   ...oft\\OneDrive\\OneDrive.exe    N/A      |\n",
      "|    0   N/A  N/A     16068    C+G   ... Host\\Razer Synapse 3.exe    N/A      |\n",
      "|    0   N/A  N/A     16108    C+G   ...oft\\OneDrive\\OneDrive.exe    N/A      |\n",
      "|    0   N/A  N/A     16712    C+G   ...v1g1gvanyjgm\\WhatsApp.exe    N/A      |\n",
      "|    0   N/A  N/A     18216    C+G   ...\\CNext\\RadeonSoftware.exe    N/A      |\n",
      "|    0   N/A  N/A     18428    C+G   ...Central\\Razer Central.exe    N/A      |\n",
      "|    0   N/A  N/A     19052    C+G   ...arp.BrowserSubprocess.exe    N/A      |\n",
      "|    0   N/A  N/A     19392    C+G   ...9cg\\Package\\QuickLook.exe    N/A      |\n",
      "|    0   N/A  N/A     21192    C+G   ...bView2\\msedgewebview2.exe    N/A      |\n",
      "|    0   N/A  N/A     21740    C+G   ...a\\iCloud\\iCloudPhotos.exe    N/A      |\n",
      "|    0   N/A  N/A     22660    C+G   ...e\\PhoneExperienceHost.exe    N/A      |\n",
      "|    0   N/A  N/A     23056    C+G   ...ropbox\\Client\\Dropbox.exe    N/A      |\n",
      "|    0   N/A  N/A     23104    C+G   ...me\\Application\\chrome.exe    N/A      |\n",
      "|    0   N/A  N/A     24048    C+G   ...BHVLBFPWCTZ75KA\\DeepL.exe    N/A      |\n",
      "|    0   N/A  N/A     24312    C+G   ...2gh52qy24etm\\Nahimic3.exe    N/A      |\n",
      "|    0   N/A  N/A     25360    C+G   ...y\\ShellExperienceHost.exe    N/A      |\n",
      "|    0   N/A  N/A     30308    C+G   ...i\\Application\\vivaldi.exe    N/A      |\n",
      "|    0   N/A  N/A     38636    C+G   C:\\Windows\\explorer.exe         N/A      |\n",
      "|    0   N/A  N/A     43452    C+G   ...icrosoft VS Code\\Code.exe    N/A      |\n",
      "+-----------------------------------------------------------------------------+\n",
      "Your runtime has 34.2 gigabytes of available RAM\n",
      "\n",
      "You are using a high-RAM runtime!\n"
     ]
    }
   ],
   "source": [
    "#@title Check available GPU in session\n",
    "#  ------------------------------------\n",
    "gpu_info = !nvidia-smi\n",
    "gpu_info = '\\n'.join(gpu_info)\n",
    "if gpu_info.find('failed') >= 0:\n",
    "  print('Not connected to a GPU')\n",
    "else:\n",
    "  print(gpu_info)\n",
    "\n",
    "# ----------------------------------------------\n",
    "from psutil import virtual_memory\n",
    "ram_gb = virtual_memory().total / 1e9\n",
    "print('Your runtime has {:.1f} gigabytes of available RAM\\n'.format(ram_gb))\n",
    "\n",
    "if ram_gb < 20:\n",
    "  print('Not using a high-RAM runtime')\n",
    "else:\n",
    "  print('You are using a high-RAM runtime!')"
   ]
  },
  {
   "cell_type": "code",
   "execution_count": 11,
   "metadata": {
    "colab": {
     "base_uri": "https://localhost:8080/"
    },
    "id": "x-Xt9I5YETqC",
    "outputId": "5cf6b5ea-a68a-477f-ea83-d77b426295d2",
    "tags": []
   },
   "outputs": [
    {
     "name": "stdout",
     "output_type": "stream",
     "text": [
      "C:\\Users\\Atif\\Dropbox\\uB\\CODES\\IMG2NIFTI\n",
      "^C\n",
      "------------ Selected Options -------------\n",
      "path: E:\\uB\\IMGExportFiles\\\n",
      "rows: 500\n",
      "cols: 1536\n",
      "preview: True\n",
      "save_video: False\n",
      "save_slices: False\n",
      "E:\\uB\\IMGExportFiles\\\\*.img\n",
      "-------------- - ----------------\n",
      "[Info]: Processing video file: E:\\uB\\IMGExportFiles\\P0~FlowCube_z.img\n",
      "[Info]: Detected Volume slices = 500\n",
      "Figure(3686.4x1200)\n",
      "[Info]: Saved converted file E:\\uB\\IMGExportFiles/Converted_P0~FlowCube_z.nii.gz.\n",
      "--- File converted sucessfully. ---\n",
      "-------------- - ----------------\n",
      "[Info]: Processing video file: E:\\uB\\IMGExportFiles\\P0~_cube_z.img\n",
      "[Info]: Detected Volume slices = 500\n",
      "Figure(3686.4x1200)\n",
      "[Info]: Saved converted file E:\\uB\\IMGExportFiles/Converted_P0~_cube_z.nii.gz.\n",
      "--- File converted sucessfully. ---\n"
     ]
    }
   ],
   "source": [
    "%cd \"C:\\Users\\Atif\\Dropbox\\uB\\CODES\\IMG2NIFTI\"\n",
    "!python img_to_nifti.py --preview True --path E:\\uB\\IMGExportFiles\\"
   ]
  }
 ],
 "metadata": {
  "colab": {
   "provenance": []
  },
  "kernelspec": {
   "display_name": "Python 3 (ipykernel)",
   "language": "python",
   "name": "python3"
  },
  "language_info": {
   "codemirror_mode": {
    "name": "ipython",
    "version": 3
   },
   "file_extension": ".py",
   "mimetype": "text/x-python",
   "name": "python",
   "nbconvert_exporter": "python",
   "pygments_lexer": "ipython3",
   "version": "3.8.16"
  },
  "widgets": {
   "application/vnd.jupyter.widget-state+json": {
    "1a4e69d0404d40c9b8ddd89863b69c78": {
     "model_module": "@jupyter-widgets/base",
     "model_module_version": "1.2.0",
     "model_name": "LayoutModel",
     "state": {
      "_model_module": "@jupyter-widgets/base",
      "_model_module_version": "1.2.0",
      "_model_name": "LayoutModel",
      "_view_count": null,
      "_view_module": "@jupyter-widgets/base",
      "_view_module_version": "1.2.0",
      "_view_name": "LayoutView",
      "align_content": null,
      "align_items": null,
      "align_self": null,
      "border": null,
      "bottom": null,
      "display": null,
      "flex": null,
      "flex_flow": null,
      "grid_area": null,
      "grid_auto_columns": null,
      "grid_auto_flow": null,
      "grid_auto_rows": null,
      "grid_column": null,
      "grid_gap": null,
      "grid_row": null,
      "grid_template_areas": null,
      "grid_template_columns": null,
      "grid_template_rows": null,
      "height": null,
      "justify_content": null,
      "justify_items": null,
      "left": null,
      "margin": null,
      "max_height": null,
      "max_width": null,
      "min_height": null,
      "min_width": null,
      "object_fit": null,
      "object_position": null,
      "order": null,
      "overflow": null,
      "overflow_x": null,
      "overflow_y": null,
      "padding": null,
      "right": null,
      "top": null,
      "visibility": null,
      "width": null
     }
    },
    "1e2b306c90994508b3124b63af3c1549": {
     "model_module": "@jupyter-widgets/controls",
     "model_module_version": "1.5.0",
     "model_name": "DescriptionStyleModel",
     "state": {
      "_model_module": "@jupyter-widgets/controls",
      "_model_module_version": "1.5.0",
      "_model_name": "DescriptionStyleModel",
      "_view_count": null,
      "_view_module": "@jupyter-widgets/base",
      "_view_module_version": "1.2.0",
      "_view_name": "StyleView",
      "description_width": ""
     }
    },
    "38544eccb65a4640be54f612c29ebcd9": {
     "model_module": "@jupyter-widgets/controls",
     "model_module_version": "1.5.0",
     "model_name": "LabelModel",
     "state": {
      "_dom_classes": [],
      "_model_module": "@jupyter-widgets/controls",
      "_model_module_version": "1.5.0",
      "_model_name": "LabelModel",
      "_view_count": null,
      "_view_module": "@jupyter-widgets/controls",
      "_view_module_version": "1.5.0",
      "_view_name": "LabelView",
      "description": "",
      "description_tooltip": null,
      "layout": "IPY_MODEL_cbbd9f20bc31446193ea7b8125282b1b",
      "placeholder": "​",
      "style": "IPY_MODEL_72f401980c9b4db595530c03da48ae93",
      "value": "time: 26 ms (started: 2023-02-10 16:11:58 +00:00)"
     }
    },
    "4d808ad247034283ae2f41b9ebf202e9": {
     "model_module": "@jupyter-widgets/base",
     "model_module_version": "1.2.0",
     "model_name": "LayoutModel",
     "state": {
      "_model_module": "@jupyter-widgets/base",
      "_model_module_version": "1.2.0",
      "_model_name": "LayoutModel",
      "_view_count": null,
      "_view_module": "@jupyter-widgets/base",
      "_view_module_version": "1.2.0",
      "_view_name": "LayoutView",
      "align_content": null,
      "align_items": null,
      "align_self": null,
      "border": null,
      "bottom": null,
      "display": null,
      "flex": null,
      "flex_flow": null,
      "grid_area": null,
      "grid_auto_columns": null,
      "grid_auto_flow": null,
      "grid_auto_rows": null,
      "grid_column": null,
      "grid_gap": null,
      "grid_row": null,
      "grid_template_areas": null,
      "grid_template_columns": null,
      "grid_template_rows": null,
      "height": null,
      "justify_content": null,
      "justify_items": null,
      "left": null,
      "margin": null,
      "max_height": null,
      "max_width": null,
      "min_height": null,
      "min_width": null,
      "object_fit": null,
      "object_position": null,
      "order": null,
      "overflow": null,
      "overflow_x": null,
      "overflow_y": null,
      "padding": null,
      "right": null,
      "top": null,
      "visibility": null,
      "width": null
     }
    },
    "72f401980c9b4db595530c03da48ae93": {
     "model_module": "@jupyter-widgets/controls",
     "model_module_version": "1.5.0",
     "model_name": "DescriptionStyleModel",
     "state": {
      "_model_module": "@jupyter-widgets/controls",
      "_model_module_version": "1.5.0",
      "_model_name": "DescriptionStyleModel",
      "_view_count": null,
      "_view_module": "@jupyter-widgets/base",
      "_view_module_version": "1.2.0",
      "_view_name": "StyleView",
      "description_width": ""
     }
    },
    "cbbd9f20bc31446193ea7b8125282b1b": {
     "model_module": "@jupyter-widgets/base",
     "model_module_version": "1.2.0",
     "model_name": "LayoutModel",
     "state": {
      "_model_module": "@jupyter-widgets/base",
      "_model_module_version": "1.2.0",
      "_model_name": "LayoutModel",
      "_view_count": null,
      "_view_module": "@jupyter-widgets/base",
      "_view_module_version": "1.2.0",
      "_view_name": "LayoutView",
      "align_content": null,
      "align_items": null,
      "align_self": null,
      "border": null,
      "bottom": null,
      "display": null,
      "flex": null,
      "flex_flow": null,
      "grid_area": null,
      "grid_auto_columns": null,
      "grid_auto_flow": null,
      "grid_auto_rows": null,
      "grid_column": null,
      "grid_gap": null,
      "grid_row": null,
      "grid_template_areas": null,
      "grid_template_columns": null,
      "grid_template_rows": null,
      "height": null,
      "justify_content": null,
      "justify_items": null,
      "left": null,
      "margin": null,
      "max_height": null,
      "max_width": null,
      "min_height": null,
      "min_width": null,
      "object_fit": null,
      "object_position": null,
      "order": null,
      "overflow": null,
      "overflow_x": null,
      "overflow_y": null,
      "padding": null,
      "right": null,
      "top": null,
      "visibility": null,
      "width": null
     }
    },
    "d7cc57f8a5744b56bc6d4befb53fc94d": {
     "model_module": "@jupyter-widgets/controls",
     "model_module_version": "1.5.0",
     "model_name": "LabelModel",
     "state": {
      "_dom_classes": [],
      "_model_module": "@jupyter-widgets/controls",
      "_model_module_version": "1.5.0",
      "_model_name": "LabelModel",
      "_view_count": null,
      "_view_module": "@jupyter-widgets/controls",
      "_view_module_version": "1.5.0",
      "_view_name": "LabelView",
      "description": "",
      "description_tooltip": null,
      "layout": "IPY_MODEL_4d808ad247034283ae2f41b9ebf202e9",
      "placeholder": "​",
      "style": "IPY_MODEL_dcbb9bbe5e7f49809253d4a17fd5d826",
      "value": "time: 149 ms (started: 2023-02-10 15:51:42 +00:00)"
     }
    },
    "dcbb9bbe5e7f49809253d4a17fd5d826": {
     "model_module": "@jupyter-widgets/controls",
     "model_module_version": "1.5.0",
     "model_name": "DescriptionStyleModel",
     "state": {
      "_model_module": "@jupyter-widgets/controls",
      "_model_module_version": "1.5.0",
      "_model_name": "DescriptionStyleModel",
      "_view_count": null,
      "_view_module": "@jupyter-widgets/base",
      "_view_module_version": "1.2.0",
      "_view_name": "StyleView",
      "description_width": ""
     }
    },
    "ff2d7781e43a4fcd80167c0cd63578d0": {
     "model_module": "@jupyter-widgets/controls",
     "model_module_version": "1.5.0",
     "model_name": "LabelModel",
     "state": {
      "_dom_classes": [],
      "_model_module": "@jupyter-widgets/controls",
      "_model_module_version": "1.5.0",
      "_model_name": "LabelModel",
      "_view_count": null,
      "_view_module": "@jupyter-widgets/controls",
      "_view_module_version": "1.5.0",
      "_view_name": "LabelView",
      "description": "",
      "description_tooltip": null,
      "layout": "IPY_MODEL_1a4e69d0404d40c9b8ddd89863b69c78",
      "placeholder": "​",
      "style": "IPY_MODEL_1e2b306c90994508b3124b63af3c1549",
      "value": "time: 3min 4s (started: 2023-02-10 16:03:51 +00:00)"
     }
    }
   }
  }
 },
 "nbformat": 4,
 "nbformat_minor": 4
}
